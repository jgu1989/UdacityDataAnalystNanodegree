{
 "cells": [
  {
   "cell_type": "markdown",
   "metadata": {},
   "source": [
    "# Introduction"
   ]
  },
  {
   "cell_type": "markdown",
   "metadata": {},
   "source": [
    "1. How does the choice of school play into academic performance?\n",
    "2. Are there differences in achievement based on gender, location, or student attitudes?\n",
    "3. Are there differences in achievement based on teacher practices and attitudes?\n",
    "4. Does there exist inequality in academic achievement?"
   ]
  },
  {
   "cell_type": "markdown",
   "metadata": {},
   "source": [
    "# Import libs"
   ]
  },
  {
   "cell_type": "code",
   "execution_count": 107,
   "metadata": {},
   "outputs": [],
   "source": [
    "import pandas as pd\n",
    "import numpy as np\n",
    "import matplotlib.pyplot as plt"
   ]
  },
  {
   "cell_type": "markdown",
   "metadata": {},
   "source": [
    "# Load data"
   ]
  },
  {
   "cell_type": "code",
   "execution_count": 3,
   "metadata": {},
   "outputs": [
    {
     "name": "stderr",
     "output_type": "stream",
     "text": [
      "/usr/local/anaconda3/lib/python3.7/site-packages/IPython/core/interactiveshell.py:2785: DtypeWarning: Columns (15,16,17,21,22,23,24,25,26,30,31,36,37,45,65,123,155,156,157,158,159,160,161,162,163,164,165,166,167,168,169,170,171,284,285,286,287,288,289,290,291,292,293,294,295,296,297,298,299,300,301,302,303,307,308,309,310,311,312,313,314,315,316,317,318,319,320,321,322,323,324,325,326,327,328,329,330,331,332,333,334,335,336,337,338,339,340,341,342,343,344,345,346,347,348,349,350,351,352,353,354,355,356,357,376,377,378,379,380,381,382,383,384,385,386,387,388,389,390,391,392,393,394,395,396,397,398,399,400,401,402,403,475) have mixed types. Specify dtype option on import or set low_memory=False.\n",
      "  interactivity=interactivity, compiler=compiler, result=result)\n"
     ]
    }
   ],
   "source": [
    "df = pd.read_csv('pisa2012.csv', encoding='latin-1')"
   ]
  },
  {
   "cell_type": "code",
   "execution_count": 4,
   "metadata": {},
   "outputs": [
    {
     "data": {
      "text/html": [
       "<div>\n",
       "<style scoped>\n",
       "    .dataframe tbody tr th:only-of-type {\n",
       "        vertical-align: middle;\n",
       "    }\n",
       "\n",
       "    .dataframe tbody tr th {\n",
       "        vertical-align: top;\n",
       "    }\n",
       "\n",
       "    .dataframe thead th {\n",
       "        text-align: right;\n",
       "    }\n",
       "</style>\n",
       "<table border=\"1\" class=\"dataframe\">\n",
       "  <thead>\n",
       "    <tr style=\"text-align: right;\">\n",
       "      <th></th>\n",
       "      <th>Unnamed: 0</th>\n",
       "      <th>CNT</th>\n",
       "      <th>SUBNATIO</th>\n",
       "      <th>STRATUM</th>\n",
       "      <th>OECD</th>\n",
       "      <th>NC</th>\n",
       "      <th>SCHOOLID</th>\n",
       "      <th>STIDSTD</th>\n",
       "      <th>ST01Q01</th>\n",
       "      <th>ST02Q01</th>\n",
       "      <th>...</th>\n",
       "      <th>W_FSTR75</th>\n",
       "      <th>W_FSTR76</th>\n",
       "      <th>W_FSTR77</th>\n",
       "      <th>W_FSTR78</th>\n",
       "      <th>W_FSTR79</th>\n",
       "      <th>W_FSTR80</th>\n",
       "      <th>WVARSTRR</th>\n",
       "      <th>VAR_UNIT</th>\n",
       "      <th>SENWGT_STU</th>\n",
       "      <th>VER_STU</th>\n",
       "    </tr>\n",
       "  </thead>\n",
       "  <tbody>\n",
       "    <tr>\n",
       "      <th>0</th>\n",
       "      <td>1</td>\n",
       "      <td>Albania</td>\n",
       "      <td>80000</td>\n",
       "      <td>ALB0006</td>\n",
       "      <td>Non-OECD</td>\n",
       "      <td>Albania</td>\n",
       "      <td>1</td>\n",
       "      <td>1</td>\n",
       "      <td>10</td>\n",
       "      <td>1.0</td>\n",
       "      <td>...</td>\n",
       "      <td>13.7954</td>\n",
       "      <td>13.9235</td>\n",
       "      <td>13.1249</td>\n",
       "      <td>13.1249</td>\n",
       "      <td>4.3389</td>\n",
       "      <td>13.0829</td>\n",
       "      <td>19</td>\n",
       "      <td>1</td>\n",
       "      <td>0.2098</td>\n",
       "      <td>22NOV13</td>\n",
       "    </tr>\n",
       "    <tr>\n",
       "      <th>1</th>\n",
       "      <td>2</td>\n",
       "      <td>Albania</td>\n",
       "      <td>80000</td>\n",
       "      <td>ALB0006</td>\n",
       "      <td>Non-OECD</td>\n",
       "      <td>Albania</td>\n",
       "      <td>1</td>\n",
       "      <td>2</td>\n",
       "      <td>10</td>\n",
       "      <td>1.0</td>\n",
       "      <td>...</td>\n",
       "      <td>13.7954</td>\n",
       "      <td>13.9235</td>\n",
       "      <td>13.1249</td>\n",
       "      <td>13.1249</td>\n",
       "      <td>4.3389</td>\n",
       "      <td>13.0829</td>\n",
       "      <td>19</td>\n",
       "      <td>1</td>\n",
       "      <td>0.2098</td>\n",
       "      <td>22NOV13</td>\n",
       "    </tr>\n",
       "    <tr>\n",
       "      <th>2</th>\n",
       "      <td>3</td>\n",
       "      <td>Albania</td>\n",
       "      <td>80000</td>\n",
       "      <td>ALB0006</td>\n",
       "      <td>Non-OECD</td>\n",
       "      <td>Albania</td>\n",
       "      <td>1</td>\n",
       "      <td>3</td>\n",
       "      <td>9</td>\n",
       "      <td>1.0</td>\n",
       "      <td>...</td>\n",
       "      <td>12.7307</td>\n",
       "      <td>12.7307</td>\n",
       "      <td>12.7307</td>\n",
       "      <td>12.7307</td>\n",
       "      <td>4.2436</td>\n",
       "      <td>12.7307</td>\n",
       "      <td>19</td>\n",
       "      <td>1</td>\n",
       "      <td>0.1999</td>\n",
       "      <td>22NOV13</td>\n",
       "    </tr>\n",
       "    <tr>\n",
       "      <th>3</th>\n",
       "      <td>4</td>\n",
       "      <td>Albania</td>\n",
       "      <td>80000</td>\n",
       "      <td>ALB0006</td>\n",
       "      <td>Non-OECD</td>\n",
       "      <td>Albania</td>\n",
       "      <td>1</td>\n",
       "      <td>4</td>\n",
       "      <td>9</td>\n",
       "      <td>1.0</td>\n",
       "      <td>...</td>\n",
       "      <td>12.7307</td>\n",
       "      <td>12.7307</td>\n",
       "      <td>12.7307</td>\n",
       "      <td>12.7307</td>\n",
       "      <td>4.2436</td>\n",
       "      <td>12.7307</td>\n",
       "      <td>19</td>\n",
       "      <td>1</td>\n",
       "      <td>0.1999</td>\n",
       "      <td>22NOV13</td>\n",
       "    </tr>\n",
       "    <tr>\n",
       "      <th>4</th>\n",
       "      <td>5</td>\n",
       "      <td>Albania</td>\n",
       "      <td>80000</td>\n",
       "      <td>ALB0006</td>\n",
       "      <td>Non-OECD</td>\n",
       "      <td>Albania</td>\n",
       "      <td>1</td>\n",
       "      <td>5</td>\n",
       "      <td>9</td>\n",
       "      <td>1.0</td>\n",
       "      <td>...</td>\n",
       "      <td>12.7307</td>\n",
       "      <td>12.7307</td>\n",
       "      <td>12.7307</td>\n",
       "      <td>12.7307</td>\n",
       "      <td>4.2436</td>\n",
       "      <td>12.7307</td>\n",
       "      <td>19</td>\n",
       "      <td>1</td>\n",
       "      <td>0.1999</td>\n",
       "      <td>22NOV13</td>\n",
       "    </tr>\n",
       "  </tbody>\n",
       "</table>\n",
       "<p>5 rows × 636 columns</p>\n",
       "</div>"
      ],
      "text/plain": [
       "   Unnamed: 0      CNT  SUBNATIO  STRATUM      OECD       NC  SCHOOLID  \\\n",
       "0           1  Albania     80000  ALB0006  Non-OECD  Albania         1   \n",
       "1           2  Albania     80000  ALB0006  Non-OECD  Albania         1   \n",
       "2           3  Albania     80000  ALB0006  Non-OECD  Albania         1   \n",
       "3           4  Albania     80000  ALB0006  Non-OECD  Albania         1   \n",
       "4           5  Albania     80000  ALB0006  Non-OECD  Albania         1   \n",
       "\n",
       "   STIDSTD  ST01Q01  ST02Q01   ...     W_FSTR75  W_FSTR76 W_FSTR77 W_FSTR78  \\\n",
       "0        1       10      1.0   ...      13.7954   13.9235  13.1249  13.1249   \n",
       "1        2       10      1.0   ...      13.7954   13.9235  13.1249  13.1249   \n",
       "2        3        9      1.0   ...      12.7307   12.7307  12.7307  12.7307   \n",
       "3        4        9      1.0   ...      12.7307   12.7307  12.7307  12.7307   \n",
       "4        5        9      1.0   ...      12.7307   12.7307  12.7307  12.7307   \n",
       "\n",
       "   W_FSTR79 W_FSTR80 WVARSTRR VAR_UNIT SENWGT_STU  VER_STU  \n",
       "0    4.3389  13.0829       19        1     0.2098  22NOV13  \n",
       "1    4.3389  13.0829       19        1     0.2098  22NOV13  \n",
       "2    4.2436  12.7307       19        1     0.1999  22NOV13  \n",
       "3    4.2436  12.7307       19        1     0.1999  22NOV13  \n",
       "4    4.2436  12.7307       19        1     0.1999  22NOV13  \n",
       "\n",
       "[5 rows x 636 columns]"
      ]
     },
     "execution_count": 4,
     "metadata": {},
     "output_type": "execute_result"
    }
   ],
   "source": [
    "df.head()"
   ]
  },
  {
   "cell_type": "code",
   "execution_count": 5,
   "metadata": {},
   "outputs": [
    {
     "name": "stdout",
     "output_type": "stream",
     "text": [
      "<class 'pandas.core.frame.DataFrame'>\n",
      "RangeIndex: 485490 entries, 0 to 485489\n",
      "Columns: 636 entries, Unnamed: 0 to VER_STU\n",
      "dtypes: float64(250), int64(18), object(368)\n",
      "memory usage: 2.3+ GB\n"
     ]
    }
   ],
   "source": [
    "df.info()"
   ]
  },
  {
   "cell_type": "markdown",
   "metadata": {},
   "source": [
    "# Question 1: Academic performance vs. choice of school"
   ]
  },
  {
   "cell_type": "code",
   "execution_count": 31,
   "metadata": {},
   "outputs": [
    {
     "data": {
      "text/plain": [
       "array(['Albania', 'United Arab Emirates', 'Argentina', 'Australia',\n",
       "       'Austria', 'Belgium', 'Bulgaria', 'Brazil', 'Canada',\n",
       "       'Switzerland', 'Chile', 'Colombia', 'Costa Rica', 'Czech Republic',\n",
       "       'Germany', 'Denmark', 'Spain', 'Estonia', 'Finland', 'France',\n",
       "       'United Kingdom', 'Greece', 'Hong Kong-China', 'Croatia',\n",
       "       'Hungary', 'Indonesia', 'Ireland', 'Iceland', 'Israel', 'Italy',\n",
       "       'Jordan', 'Japan', 'Kazakhstan', 'Korea', 'Liechtenstein',\n",
       "       'Lithuania', 'Luxembourg', 'Latvia', 'Macao-China', 'Mexico',\n",
       "       'Montenegro', 'Malaysia', 'Netherlands', 'Norway', 'New Zealand',\n",
       "       'Peru', 'Poland', 'Portugal', 'Qatar', 'China-Shanghai',\n",
       "       'Perm(Russian Federation)', 'Florida (USA)', 'Connecticut (USA)',\n",
       "       'Massachusetts (USA)', 'Romania', 'Russian Federation',\n",
       "       'Singapore', 'Serbia', 'Slovak Republic', 'Slovenia', 'Sweden',\n",
       "       'Chinese Taipei', 'Thailand', 'Tunisia', 'Turkey', 'Uruguay',\n",
       "       'United States of America', 'Vietnam'], dtype=object)"
      ]
     },
     "execution_count": 31,
     "metadata": {},
     "output_type": "execute_result"
    }
   ],
   "source": [
    "regions = df.CNT.unique()\n",
    "regions"
   ]
  },
  {
   "cell_type": "markdown",
   "metadata": {},
   "source": [
    "Relevant columns:\n",
    "\n",
    "- CNT: Country\n",
    "- IC02Q01: At school - Desktop Computer\n",
    "- IC02Q02: At school - Portable laptop\n",
    "- IC02Q03: At school - Tablet computer\n",
    "- PV1MATH ~ PV5SCIE: Scores in mathematics\n",
    "\n"
   ]
  },
  {
   "cell_type": "code",
   "execution_count": 134,
   "metadata": {},
   "outputs": [],
   "source": [
    "df_school = df[['CNT','IC02Q01', 'IC02Q02', 'IC02Q03','PV1MATH', 'PV2MATH']]"
   ]
  },
  {
   "cell_type": "code",
   "execution_count": 135,
   "metadata": {},
   "outputs": [
    {
     "data": {
      "text/plain": [
       "133139                   No\n",
       "398549                  NaN\n",
       "132642                   No\n",
       "117814                  NaN\n",
       "171899                   No\n",
       "59625                   NaN\n",
       "392675                  NaN\n",
       "32344     Yes, and I use it\n",
       "4907                    NaN\n",
       "39158                    No\n",
       "Name: IC02Q02, dtype: object"
      ]
     },
     "execution_count": 135,
     "metadata": {},
     "output_type": "execute_result"
    }
   ],
   "source": [
    "df_school['IC02Q02'].sample(10)"
   ]
  },
  {
   "cell_type": "markdown",
   "metadata": {},
   "source": [
    "Convert the datatype of Column IC02Q01 to boolean"
   ]
  },
  {
   "cell_type": "code",
   "execution_count": 136,
   "metadata": {},
   "outputs": [],
   "source": [
    "def convert_bool(v):\n",
    "    if type(v) is float:\n",
    "        return np.nan\n",
    "    elif \"Yes\" in v:\n",
    "        return 1\n",
    "    else: return 0"
   ]
  },
  {
   "cell_type": "code",
   "execution_count": 137,
   "metadata": {},
   "outputs": [
    {
     "name": "stderr",
     "output_type": "stream",
     "text": [
      "/usr/local/anaconda3/lib/python3.7/site-packages/ipykernel_launcher.py:1: SettingWithCopyWarning: \n",
      "A value is trying to be set on a copy of a slice from a DataFrame.\n",
      "Try using .loc[row_indexer,col_indexer] = value instead\n",
      "\n",
      "See the caveats in the documentation: http://pandas.pydata.org/pandas-docs/stable/indexing.html#indexing-view-versus-copy\n",
      "  \"\"\"Entry point for launching an IPython kernel.\n",
      "/usr/local/anaconda3/lib/python3.7/site-packages/ipykernel_launcher.py:2: SettingWithCopyWarning: \n",
      "A value is trying to be set on a copy of a slice from a DataFrame.\n",
      "Try using .loc[row_indexer,col_indexer] = value instead\n",
      "\n",
      "See the caveats in the documentation: http://pandas.pydata.org/pandas-docs/stable/indexing.html#indexing-view-versus-copy\n",
      "  \n",
      "/usr/local/anaconda3/lib/python3.7/site-packages/ipykernel_launcher.py:3: SettingWithCopyWarning: \n",
      "A value is trying to be set on a copy of a slice from a DataFrame.\n",
      "Try using .loc[row_indexer,col_indexer] = value instead\n",
      "\n",
      "See the caveats in the documentation: http://pandas.pydata.org/pandas-docs/stable/indexing.html#indexing-view-versus-copy\n",
      "  This is separate from the ipykernel package so we can avoid doing imports until\n"
     ]
    }
   ],
   "source": [
    "df_school['desktop'] = df_school.IC02Q01.apply(convert_bool)\n",
    "df_school['laptop'] = df_school.IC02Q02.apply(convert_bool)\n",
    "df_school['tablet'] = df_school.IC02Q03.apply(convert_bool)"
   ]
  },
  {
   "cell_type": "code",
   "execution_count": 138,
   "metadata": {},
   "outputs": [
    {
     "data": {
      "text/html": [
       "<div>\n",
       "<style scoped>\n",
       "    .dataframe tbody tr th:only-of-type {\n",
       "        vertical-align: middle;\n",
       "    }\n",
       "\n",
       "    .dataframe tbody tr th {\n",
       "        vertical-align: top;\n",
       "    }\n",
       "\n",
       "    .dataframe thead th {\n",
       "        text-align: right;\n",
       "    }\n",
       "</style>\n",
       "<table border=\"1\" class=\"dataframe\">\n",
       "  <thead>\n",
       "    <tr style=\"text-align: right;\">\n",
       "      <th></th>\n",
       "      <th>CNT</th>\n",
       "      <th>IC02Q01</th>\n",
       "      <th>IC02Q02</th>\n",
       "      <th>IC02Q03</th>\n",
       "      <th>PV1MATH</th>\n",
       "      <th>PV2MATH</th>\n",
       "      <th>desktop</th>\n",
       "      <th>laptop</th>\n",
       "      <th>tablet</th>\n",
       "    </tr>\n",
       "  </thead>\n",
       "  <tbody>\n",
       "    <tr>\n",
       "      <th>226784</th>\n",
       "      <td>Indonesia</td>\n",
       "      <td>NaN</td>\n",
       "      <td>NaN</td>\n",
       "      <td>NaN</td>\n",
       "      <td>242.8805</td>\n",
       "      <td>376.0788</td>\n",
       "      <td>NaN</td>\n",
       "      <td>NaN</td>\n",
       "      <td>NaN</td>\n",
       "    </tr>\n",
       "    <tr>\n",
       "      <th>84771</th>\n",
       "      <td>Canada</td>\n",
       "      <td>NaN</td>\n",
       "      <td>NaN</td>\n",
       "      <td>NaN</td>\n",
       "      <td>408.4047</td>\n",
       "      <td>437.2254</td>\n",
       "      <td>NaN</td>\n",
       "      <td>NaN</td>\n",
       "      <td>NaN</td>\n",
       "    </tr>\n",
       "    <tr>\n",
       "      <th>130653</th>\n",
       "      <td>Czech Republic</td>\n",
       "      <td>Yes, but I dont use it</td>\n",
       "      <td>No</td>\n",
       "      <td>No</td>\n",
       "      <td>401.3943</td>\n",
       "      <td>407.6258</td>\n",
       "      <td>1.0</td>\n",
       "      <td>0.0</td>\n",
       "      <td>0.0</td>\n",
       "    </tr>\n",
       "    <tr>\n",
       "      <th>234546</th>\n",
       "      <td>Iceland</td>\n",
       "      <td>Yes, and I use it</td>\n",
       "      <td>No</td>\n",
       "      <td>No</td>\n",
       "      <td>476.9512</td>\n",
       "      <td>467.6040</td>\n",
       "      <td>1.0</td>\n",
       "      <td>0.0</td>\n",
       "      <td>0.0</td>\n",
       "    </tr>\n",
       "    <tr>\n",
       "      <th>207628</th>\n",
       "      <td>Hong Kong-China</td>\n",
       "      <td>Yes, and I use it</td>\n",
       "      <td>Yes, but I dont use it</td>\n",
       "      <td>No</td>\n",
       "      <td>608.5917</td>\n",
       "      <td>619.4968</td>\n",
       "      <td>1.0</td>\n",
       "      <td>1.0</td>\n",
       "      <td>0.0</td>\n",
       "    </tr>\n",
       "  </tbody>\n",
       "</table>\n",
       "</div>"
      ],
      "text/plain": [
       "                    CNT                  IC02Q01                  IC02Q02  \\\n",
       "226784        Indonesia                      NaN                      NaN   \n",
       "84771            Canada                      NaN                      NaN   \n",
       "130653   Czech Republic  Yes, but I dont use it                       No   \n",
       "234546          Iceland        Yes, and I use it                       No   \n",
       "207628  Hong Kong-China        Yes, and I use it  Yes, but I dont use it   \n",
       "\n",
       "       IC02Q03   PV1MATH   PV2MATH  desktop  laptop  tablet  \n",
       "226784     NaN  242.8805  376.0788      NaN     NaN     NaN  \n",
       "84771      NaN  408.4047  437.2254      NaN     NaN     NaN  \n",
       "130653      No  401.3943  407.6258      1.0     0.0     0.0  \n",
       "234546      No  476.9512  467.6040      1.0     0.0     0.0  \n",
       "207628      No  608.5917  619.4968      1.0     1.0     0.0  "
      ]
     },
     "execution_count": 138,
     "metadata": {},
     "output_type": "execute_result"
    }
   ],
   "source": [
    "df_school.sample(5)"
   ]
  },
  {
   "cell_type": "code",
   "execution_count": 139,
   "metadata": {},
   "outputs": [
    {
     "name": "stderr",
     "output_type": "stream",
     "text": [
      "/usr/local/anaconda3/lib/python3.7/site-packages/pandas/core/frame.py:3697: SettingWithCopyWarning: \n",
      "A value is trying to be set on a copy of a slice from a DataFrame\n",
      "\n",
      "See the caveats in the documentation: http://pandas.pydata.org/pandas-docs/stable/indexing.html#indexing-view-versus-copy\n",
      "  errors=errors)\n"
     ]
    }
   ],
   "source": [
    "df_school.drop(columns=['IC02Q01','IC02Q02','IC02Q03'], inplace=True)"
   ]
  },
  {
   "cell_type": "code",
   "execution_count": 140,
   "metadata": {},
   "outputs": [
    {
     "name": "stderr",
     "output_type": "stream",
     "text": [
      "/usr/local/anaconda3/lib/python3.7/site-packages/ipykernel_launcher.py:2: SettingWithCopyWarning: \n",
      "A value is trying to be set on a copy of a slice from a DataFrame\n",
      "\n",
      "See the caveats in the documentation: http://pandas.pydata.org/pandas-docs/stable/indexing.html#indexing-view-versus-copy\n",
      "  \n"
     ]
    }
   ],
   "source": [
    "# drop rows with NaN\n",
    "df_school.dropna(inplace=True)"
   ]
  },
  {
   "cell_type": "code",
   "execution_count": 141,
   "metadata": {},
   "outputs": [
    {
     "name": "stderr",
     "output_type": "stream",
     "text": [
      "/usr/local/anaconda3/lib/python3.7/site-packages/ipykernel_launcher.py:1: SettingWithCopyWarning: \n",
      "A value is trying to be set on a copy of a slice from a DataFrame.\n",
      "Try using .loc[row_indexer,col_indexer] = value instead\n",
      "\n",
      "See the caveats in the documentation: http://pandas.pydata.org/pandas-docs/stable/indexing.html#indexing-view-versus-copy\n",
      "  \"\"\"Entry point for launching an IPython kernel.\n"
     ]
    }
   ],
   "source": [
    "df_school['computers'] = df_school.desktop + df_school.laptop + df_school.tablet"
   ]
  },
  {
   "cell_type": "code",
   "execution_count": 142,
   "metadata": {},
   "outputs": [
    {
     "data": {
      "text/html": [
       "<div>\n",
       "<style scoped>\n",
       "    .dataframe tbody tr th:only-of-type {\n",
       "        vertical-align: middle;\n",
       "    }\n",
       "\n",
       "    .dataframe tbody tr th {\n",
       "        vertical-align: top;\n",
       "    }\n",
       "\n",
       "    .dataframe thead th {\n",
       "        text-align: right;\n",
       "    }\n",
       "</style>\n",
       "<table border=\"1\" class=\"dataframe\">\n",
       "  <thead>\n",
       "    <tr style=\"text-align: right;\">\n",
       "      <th></th>\n",
       "      <th>PV1MATH</th>\n",
       "      <th>PV2MATH</th>\n",
       "      <th>desktop</th>\n",
       "      <th>laptop</th>\n",
       "      <th>tablet</th>\n",
       "    </tr>\n",
       "    <tr>\n",
       "      <th>computers</th>\n",
       "      <th></th>\n",
       "      <th></th>\n",
       "      <th></th>\n",
       "      <th></th>\n",
       "      <th></th>\n",
       "    </tr>\n",
       "  </thead>\n",
       "  <tbody>\n",
       "    <tr>\n",
       "      <th>0.0</th>\n",
       "      <td>456.890050</td>\n",
       "      <td>456.793704</td>\n",
       "      <td>0.000000</td>\n",
       "      <td>0.000000</td>\n",
       "      <td>0.000000</td>\n",
       "    </tr>\n",
       "    <tr>\n",
       "      <th>1.0</th>\n",
       "      <td>500.013220</td>\n",
       "      <td>500.108972</td>\n",
       "      <td>0.941211</td>\n",
       "      <td>0.051117</td>\n",
       "      <td>0.007671</td>\n",
       "    </tr>\n",
       "    <tr>\n",
       "      <th>2.0</th>\n",
       "      <td>501.380639</td>\n",
       "      <td>501.464199</td>\n",
       "      <td>0.980215</td>\n",
       "      <td>0.934780</td>\n",
       "      <td>0.085005</td>\n",
       "    </tr>\n",
       "    <tr>\n",
       "      <th>3.0</th>\n",
       "      <td>454.363086</td>\n",
       "      <td>454.306845</td>\n",
       "      <td>1.000000</td>\n",
       "      <td>1.000000</td>\n",
       "      <td>1.000000</td>\n",
       "    </tr>\n",
       "  </tbody>\n",
       "</table>\n",
       "</div>"
      ],
      "text/plain": [
       "              PV1MATH     PV2MATH   desktop    laptop    tablet\n",
       "computers                                                      \n",
       "0.0        456.890050  456.793704  0.000000  0.000000  0.000000\n",
       "1.0        500.013220  500.108972  0.941211  0.051117  0.007671\n",
       "2.0        501.380639  501.464199  0.980215  0.934780  0.085005\n",
       "3.0        454.363086  454.306845  1.000000  1.000000  1.000000"
      ]
     },
     "execution_count": 142,
     "metadata": {},
     "output_type": "execute_result"
    }
   ],
   "source": [
    "df_school.groupby('computers').mean()"
   ]
  },
  {
   "cell_type": "code",
   "execution_count": 155,
   "metadata": {},
   "outputs": [],
   "source": [
    "data['Australia'] = df_school.query('CNT == \"Australia\"').groupby('computers').mean()"
   ]
  },
  {
   "cell_type": "code",
   "execution_count": 156,
   "metadata": {},
   "outputs": [
    {
     "data": {
      "text/plain": [
       "<matplotlib.collections.PathCollection at 0x11dddc438>"
      ]
     },
     "execution_count": 156,
     "metadata": {},
     "output_type": "execute_result"
    },
    {
     "data": {
      "image/png": "[encoded data removed]",
      "text/plain": [
       "<Figure size 432x288 with 1 Axes>"
      ]
     },
     "metadata": {
      "needs_background": "light"
     },
     "output_type": "display_data"
    }
   ],
   "source": [
    "plt.scatter(x= data['Australia'].index, y=data['Australia'].PV1MATH)"
   ]
  },
  {
   "cell_type": "code",
   "execution_count": null,
   "metadata": {},
   "outputs": [],
   "source": []
  }
 ],
 "metadata": {
  "kernelspec": {
   "display_name": "Python 3",
   "language": "python",
   "name": "python3"
  },
  "language_info": {
   "codemirror_mode": {
    "name": "ipython",
    "version": 3
   },
   "file_extension": ".py",
   "mimetype": "text/x-python",
   "name": "python",
   "nbconvert_exporter": "python",
   "pygments_lexer": "ipython3",
   "version": "3.7.2"
  }
 },
 "nbformat": 4,
 "nbformat_minor": 2
}
